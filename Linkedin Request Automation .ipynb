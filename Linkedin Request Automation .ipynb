{
 "cells": [
  {
   "cell_type": "markdown",
   "id": "7b7ee60c",
   "metadata": {},
   "source": [
    "# Linkedin Request automation\n"
   ]
  },
  {
   "cell_type": "markdown",
   "id": "81177198",
   "metadata": {},
   "source": [
    "### Open the page in Google Chrome:"
   ]
  },
  {
   "cell_type": "code",
   "execution_count": 1,
   "id": "3126e324",
   "metadata": {},
   "outputs": [
    {
     "data": {
      "text/plain": [
       "True"
      ]
     },
     "execution_count": 1,
     "metadata": {},
     "output_type": "execute_result"
    }
   ],
   "source": [
    "from selenium import webdriver\n",
    "from selenium.webdriver.common.by import By\n",
    "from selenium.webdriver.support.ui import WebDriverWait\n",
    "from selenium.webdriver.support import expected_conditions as EC\n",
    "\n",
    "# Launch Chrome browser\n",
    "driver = webdriver.Chrome()\n",
    "\n",
    "# Open the LinkedIn search page\n",
    "driver.get(\"https://www.linkedin.com/search/results/people/?currentCompany=%5B%221586%22%5D&geoUrn=%5B%22102713980%22%5D&network=%5B%22F%22%5D&origin=FACETED_SEARCH&sid=Ni3\")\n",
    "\n",
    "# Wait for user to fill in email and password\n",
    "WebDriverWait(driver, 600).until(EC.url_changes(driver.current_url))\n"
   ]
  },
  {
   "cell_type": "markdown",
   "id": "ef8a257f",
   "metadata": {},
   "source": [
    "### Step 2: Click on the \"Connect\" button:"
   ]
  },
  {
   "cell_type": "code",
   "execution_count": 2,
   "id": "7db490d4",
   "metadata": {},
   "outputs": [],
   "source": [
    "from selenium.webdriver.common.by import By\n",
    "from selenium.webdriver.support.ui import WebDriverWait\n",
    "from selenium.webdriver.support import expected_conditions as EC\n",
    "\n",
    "# Wait for the Connect button to be clickable and click it\n",
    "connect_buttons = WebDriverWait(driver, 10).until(\n",
    "    EC.presence_of_all_elements_located((By.XPATH, \"//span[text()='Connect']\"))\n",
    ")\n",
    "\n",
    "for button in connect_buttons:\n",
    "    button.click()\n"
   ]
  },
  {
   "cell_type": "markdown",
   "id": "1296d85e",
   "metadata": {},
   "source": [
    "### Step 3: Click on the \"Add a Note\" button:"
   ]
  },
  {
   "cell_type": "code",
   "execution_count": 3,
   "id": "49a20c98",
   "metadata": {},
   "outputs": [],
   "source": [
    "# Wait for the Add a Note button to be clickable and click it\n",
    "add_note_button = WebDriverWait(driver, 10).until(\n",
    "    EC.element_to_be_clickable((By.XPATH, \"//span[text()='Add a note']\"))\n",
    ")\n",
    "add_note_button.click()\n"
   ]
  },
  {
   "cell_type": "markdown",
   "id": "4d8780b3",
   "metadata": {},
   "source": [
    "### Step 4: Insert text into the text area:"
   ]
  },
  {
   "cell_type": "code",
   "execution_count": 4,
   "id": "e59fa907",
   "metadata": {},
   "outputs": [],
   "source": [
    "# Find the text area and insert the desired message\n",
    "text_area = WebDriverWait(driver, 10).until(\n",
    "    EC.visibility_of_element_located((By.XPATH, \"//textarea[@name='message']\"))\n",
    ")\n",
    "text_area.send_keys(\"Hi, \\n\\nWith over 4 YOE in Analytics and Operations, proficient in Excel, SQL, Python, ETL and analytical tools.  I'm confident in my suitability for analytical role. If my profile fits, let's connect to discuss further.\\nDue to repetitiveness, I've used Python to automate this message.\\n\\nBest,\\nAbhishek\")\n",
    "from selenium.webdriver.common.by import By\n",
    "from selenium.webdriver.support.ui import WebDriverWait\n",
    "from selenium.webdriver.support import expected_conditions as EC\n",
    "\n",
    "# Step 5: Click on the \"Send\" button\n",
    "send_buttons = WebDriverWait(driver, 10).until(\n",
    "    EC.presence_of_all_elements_located((By.XPATH, \"//span[text()='Send']\"))\n",
    ")\n",
    "\n",
    "for button in send_buttons:\n",
    "    button.click()"
   ]
  },
  {
   "cell_type": "code",
   "execution_count": 1,
   "id": "c71d09d9",
   "metadata": {},
   "outputs": [
    {
     "ename": "NameError",
     "evalue": "name 'time' is not defined",
     "output_type": "error",
     "traceback": [
      "\u001b[1;31m---------------------------------------------------------------------------\u001b[0m",
      "\u001b[1;31mNameError\u001b[0m                                 Traceback (most recent call last)",
      "Input \u001b[1;32mIn [1]\u001b[0m, in \u001b[0;36m<cell line: 2>\u001b[1;34m()\u001b[0m\n\u001b[0;32m      2\u001b[0m \u001b[38;5;28;01mtry\u001b[39;00m:\n\u001b[1;32m----> 3\u001b[0m     message_button \u001b[38;5;241m=\u001b[39m \u001b[43mWebDriverWait\u001b[49m(driver, \u001b[38;5;241m60\u001b[39m)\u001b[38;5;241m.\u001b[39muntil(\n\u001b[0;32m      4\u001b[0m         EC\u001b[38;5;241m.\u001b[39melement_to_be_clickable((By\u001b[38;5;241m.\u001b[39mXPATH, \u001b[38;5;124m'\u001b[39m\u001b[38;5;124m//button[@aria-label=\u001b[39m\u001b[38;5;124m\"\u001b[39m\u001b[38;5;124mMessage Kundan .\u001b[39m\u001b[38;5;124m\"\u001b[39m\u001b[38;5;124m]\u001b[39m\u001b[38;5;124m'\u001b[39m))\n\u001b[0;32m      5\u001b[0m     )\n\u001b[0;32m      6\u001b[0m     \u001b[38;5;66;03m# Click the message button\u001b[39;00m\n",
      "\u001b[1;31mNameError\u001b[0m: name 'WebDriverWait' is not defined",
      "\nDuring handling of the above exception, another exception occurred:\n",
      "\u001b[1;31mNameError\u001b[0m                                 Traceback (most recent call last)",
      "Input \u001b[1;32mIn [1]\u001b[0m, in \u001b[0;36m<cell line: 2>\u001b[1;34m()\u001b[0m\n\u001b[0;32m      7\u001b[0m     message_button\u001b[38;5;241m.\u001b[39mclick()\n\u001b[0;32m      8\u001b[0m \u001b[38;5;28;01mexcept\u001b[39;00m:\n\u001b[0;32m      9\u001b[0m     \u001b[38;5;66;03m# If sign-in is required, allow 60 seconds for manual sign-in\u001b[39;00m\n\u001b[1;32m---> 10\u001b[0m     \u001b[43mtime\u001b[49m\u001b[38;5;241m.\u001b[39msleep(\u001b[38;5;241m60\u001b[39m)\n\u001b[0;32m     12\u001b[0m     \u001b[38;5;66;03m# Retry finding the message button\u001b[39;00m\n\u001b[0;32m     13\u001b[0m     message_button \u001b[38;5;241m=\u001b[39m WebDriverWait(driver, \u001b[38;5;241m10\u001b[39m)\u001b[38;5;241m.\u001b[39muntil(\n\u001b[0;32m     14\u001b[0m         EC\u001b[38;5;241m.\u001b[39melement_to_be_clickable((By\u001b[38;5;241m.\u001b[39mXPATH, \u001b[38;5;124m'\u001b[39m\u001b[38;5;124m//button[@aria-label=\u001b[39m\u001b[38;5;124m\"\u001b[39m\u001b[38;5;124mMessage Kundan .\u001b[39m\u001b[38;5;124m\"\u001b[39m\u001b[38;5;124m]\u001b[39m\u001b[38;5;124m'\u001b[39m))\n\u001b[0;32m     15\u001b[0m     )\n",
      "\u001b[1;31mNameError\u001b[0m: name 'time' is not defined"
     ]
    }
   ],
   "source": [
    "import time\n",
    "# Step 6: Repeat the process for the second connect button and onwards\n",
    "connect_buttons = WebDriverWait(driver, 10).until(\n",
    "    EC.presence_of_all_elements_located((By.XPATH, \"//span[text()='Connect']\"))\n",
    ")\n",
    "\n",
    "# Starting from the second connect button\n",
    "for button in connect_buttons[0:]:\n",
    "    button.click()\n",
    "    \n",
    "    # Click on \"Add a Note\" button\n",
    "    add_note_button = WebDriverWait(driver, 10).until(\n",
    "        EC.element_to_be_clickable((By.XPATH, \"//span[text()='Add a note']\"))\n",
    "    )\n",
    "    add_note_button.click()\n",
    "\n",
    "    # Insert text into the text area\n",
    "    text_area = WebDriverWait(driver, 10).until(\n",
    "        EC.visibility_of_element_located((By.XPATH, \"//textarea[@name='message']\"))\n",
    "    )\n",
    "    text_area.send_keys(\"Hi, \\n\\nWith over 4 YOE in Analytics and Operations, proficient in Excel, SQL, Python, ETL and analytical tools.  I'm confident in my suitability for analytical role. If my profile fits, let's connect to discuss further.\\nDue to repetitiveness, I've used Python to automate this message.\\n\\nBest,\\nAbhishek\")\n",
    "    time.sleep(4)\n",
    "    # Click on \"Send\" button\n",
    "    send_buttons = WebDriverWait(driver, 10).until(\n",
    "        EC.presence_of_all_elements_located((By.XPATH, \"//span[text()='Send']\"))\n",
    "    )\n",
    "\n",
    "    for button in send_buttons:\n",
    "        button.click()\n",
    "    time.sleep(3)"
   ]
  },
  {
   "cell_type": "code",
   "execution_count": null,
   "id": "72e83c53",
   "metadata": {},
   "outputs": [],
   "source": []
  },
  {
   "cell_type": "code",
   "execution_count": null,
   "id": "74e6842c",
   "metadata": {},
   "outputs": [],
   "source": []
  }
 ],
 "metadata": {
  "kernelspec": {
   "display_name": "Python 3 (ipykernel)",
   "language": "python",
   "name": "python3"
  },
  "language_info": {
   "codemirror_mode": {
    "name": "ipython",
    "version": 3
   },
   "file_extension": ".py",
   "mimetype": "text/x-python",
   "name": "python",
   "nbconvert_exporter": "python",
   "pygments_lexer": "ipython3",
   "version": "3.9.12"
  }
 },
 "nbformat": 4,
 "nbformat_minor": 5
}
