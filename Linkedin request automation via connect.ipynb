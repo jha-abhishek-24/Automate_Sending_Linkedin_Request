{
 "cells": [
  {
   "cell_type": "markdown",
   "id": "b5d3437f",
   "metadata": {},
   "source": [
    "### Linkedin Request Automation "
   ]
  },
  {
   "cell_type": "markdown",
   "id": "f8f91ce5",
   "metadata": {},
   "source": [
    "#### Opening the webpage"
   ]
  },
  {
   "cell_type": "code",
   "execution_count": null,
   "id": "53909ebc",
   "metadata": {},
   "outputs": [],
   "source": [
    "from selenium import webdriver\n",
    "from selenium.webdriver.common.by import By\n",
    "from selenium.webdriver.support.ui import WebDriverWait\n",
    "from selenium.webdriver.support import expected_conditions as EC\n",
    "\n",
    "# Launch Chrome browser\n",
    "driver = webdriver.Chrome()\n",
    "\n",
    "# Open the LinkedIn search page\n",
    "driver.get(\"https://www.linkedin.com/search/results/people/?keywords=senior%20manager%20%26%20%22analytics%22%20%26%20%22hyderabad%22&origin=GLOBAL_SEARCH_HEADER&sid=wrd\")\n",
    "\n",
    "# Wait for user to fill in email and password\n",
    "WebDriverWait(driver, 600).until(EC.url_changes(driver.current_url))\n"
   ]
  },
  {
   "cell_type": "code",
   "execution_count": null,
   "id": "eb740efc",
   "metadata": {},
   "outputs": [],
   "source": [
    "from selenium.webdriver.common.by import By\n",
    "from selenium.webdriver.support.ui import WebDriverWait\n",
    "from selenium.webdriver.support import expected_conditions as EC\n",
    "import time\n",
    "from selenium.common.exceptions import TimeoutException\n",
    "\n",
    "# Function to send connection requests on the current page\n",
    "def send_connection_requests():\n",
    "    try:\n",
    "        connect_buttons = WebDriverWait(driver, 10).until(\n",
    "            EC.presence_of_all_elements_located((By.XPATH, \"//span[text()='Connect']\"))\n",
    "        )\n",
    "    except TimeoutException:\n",
    "        print(\"No connect buttons found on this page.\")\n",
    "        return\n",
    "    \n",
    "    for button in connect_buttons:\n",
    "        button.click()\n",
    "        \n",
    "        # Click on \"Add a Note\" button\n",
    "        add_note_button = WebDriverWait(driver, 10).until(\n",
    "            EC.element_to_be_clickable((By.XPATH, \"//span[text()='Add a note']\"))\n",
    "        )\n",
    "        add_note_button.click()\n",
    "\n",
    "        # Insert text into the text area\n",
    "        text_area = WebDriverWait(driver, 10).until(\n",
    "            EC.visibility_of_element_located((By.XPATH, \"//textarea[@name='message']\"))\n",
    "        )\n",
    "        text_area.send_keys(\"Hi, \\nNote: Due to repetitiveness, this is Python automated message.\\nWith over 4 YOE in Analytics and Operations, proficient in Excel, SQL, Python, ETL and analytical tools.  I'm confident in my suitability for analytical role. If my profile fits, let's connect to discuss further.\\n\\nBest,\\nAbhishek\")\n",
    "        time.sleep(4)\n",
    "        \n",
    "        # Click on \"Send\" button\n",
    "        send_buttons = WebDriverWait(driver, 10).until(\n",
    "            EC.presence_of_all_elements_located((By.XPATH, \"//span[text()='Send']\"))\n",
    "        )\n",
    "\n",
    "        for button in send_buttons:\n",
    "            button.click()\n",
    "        time.sleep(3)\n",
    "\n",
    "# Loop to repeat the process for 10 iterations can be performed for x iteration \n",
    "for i in range(10):\n",
    "    send_connection_requests()\n",
    "    \n",
    "    # Click the \"Next\" button\n",
    "    try:\n",
    "        next_button = WebDriverWait(driver, 10).until(\n",
    "            EC.element_to_be_clickable((By.XPATH, \"//button[@aria-label='Next']\"))\n",
    "        )\n",
    "        next_button.click()\n",
    "    except TimeoutException:\n",
    "        print(\"No next button found, stopping the script.\")\n",
    "        break\n",
    "    \n",
    "    # Wait for a short period to allow the new page to load\n",
    "    time.sleep(5)\n",
    "    \n",
    "print(\"Task completed\")\n"
   ]
  },
  {
   "cell_type": "code",
   "execution_count": null,
   "id": "0c4cbc18",
   "metadata": {},
   "outputs": [],
   "source": []
  }
 ],
 "metadata": {
  "kernelspec": {
   "display_name": "Python 3 (ipykernel)",
   "language": "python",
   "name": "python3"
  },
  "language_info": {
   "codemirror_mode": {
    "name": "ipython",
    "version": 3
   },
   "file_extension": ".py",
   "mimetype": "text/x-python",
   "name": "python",
   "nbconvert_exporter": "python",
   "pygments_lexer": "ipython3",
   "version": "3.9.12"
  }
 },
 "nbformat": 4,
 "nbformat_minor": 5
}
